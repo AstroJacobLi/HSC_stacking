{
 "cells": [
  {
   "cell_type": "code",
   "execution_count": 62,
   "metadata": {},
   "outputs": [
    {
     "name": "stdout",
     "output_type": "stream",
     "text": [
      "The autoreload extension is already loaded. To reload it, use:\n",
      "  %reload_ext autoreload\n"
     ]
    }
   ],
   "source": [
    "%load_ext autoreload\n",
    "%autoreload 2\n",
    "import os\n",
    "import copy\n",
    "import scipy\n",
    "\n",
    "import numpy as np\n",
    "import matplotlib.pyplot as plt\n",
    "\n",
    "from astropy import wcs\n",
    "from astropy.io import fits\n",
    "from astropy.table import Table, Column, hstack\n",
    "from astropy.stats import sigma_clip\n",
    "import astropy.units as u\n",
    "from astropy.coordinates import SkyCoord\n",
    "from astropy.coordinates import match_coordinates_sky"
   ]
  },
  {
   "cell_type": "code",
   "execution_count": 2,
   "metadata": {},
   "outputs": [],
   "source": [
    "from lvhuo.stack import Stack, StackSky, StackStar\n",
    "from lvhuo.display import (display_single, display_multiple, \\\n",
    "                           draw_circles, draw_rectangles, SEG_CMAP)\n",
    "from lvhuo.image import query_star, extract_obj"
   ]
  },
  {
   "cell_type": "code",
   "execution_count": 1,
   "metadata": {},
   "outputs": [],
   "source": [
    "from pyraf import iraf"
   ]
  },
  {
   "cell_type": "code",
   "execution_count": 3,
   "metadata": {},
   "outputs": [],
   "source": [
    "iraf.imshift('./Images/dr2_s18a_wide_129.6827_-0.0397_2.00arcmin_i.fits[1]', \n",
    "             './shift.fits', 30, 50, bound='constant', const=0.)"
   ]
  },
  {
   "cell_type": "code",
   "execution_count": 6,
   "metadata": {},
   "outputs": [
    {
     "name": "stdout",
     "output_type": "stream",
     "text": [
      "\n",
      "./magnify.fits\n",
      "  Magnify image ./Images/dr2_s18a_wide_129.6827_-0.0397_2.00arcmin_i.fits[1] to image ./magnify.fits.\n",
      "  Interpolation is poly3.\n",
      "  Boundary extension is constant.\n",
      "  Boundary pixel constant is 0..\n",
      "  Output coordinates in terms of input coordinates:\n",
      "    x1 =         1., x2 =      1430., dx =   0.833333\n",
      "    y1 =         1., y2 =      1429., dy =   0.833333\n"
     ]
    }
   ],
   "source": [
    "iraf.magnify('./Images/dr2_s18a_wide_129.6827_-0.0397_2.00arcmin_i.fits[1]', \n",
    "             './magnify.fits', 1.2, 1.2, interpo='poly3', bound='constant', const=0.)"
   ]
  },
  {
   "cell_type": "code",
   "execution_count": 84,
   "metadata": {},
   "outputs": [],
   "source": [
    "hdu = fits.open('./Images/dr2_s18a_wide_129.6827_-0.0397_2.00arcmin_i.fits')\n",
    "simg = Stack(hdu[1].data, header=hdu[1].header)"
   ]
  },
  {
   "cell_type": "code",
   "execution_count": 85,
   "metadata": {},
   "outputs": [],
   "source": [
    "import galsim"
   ]
  },
  {
   "cell_type": "code",
   "execution_count": 86,
   "metadata": {},
   "outputs": [],
   "source": [
    "hdu[1].header['CD1_2'] = 0.0\n",
    "hdu[1].header['CD2_1'] = 0.0"
   ]
  },
  {
   "cell_type": "code",
   "execution_count": 87,
   "metadata": {},
   "outputs": [],
   "source": [
    "galimg = galsim.Image(simg.image)\n",
    "galimg.wcs = galsim.GSFitsWCS(header=hdu[1].header)"
   ]
  },
  {
   "cell_type": "code",
   "execution_count": 94,
   "metadata": {},
   "outputs": [
    {
     "data": {
      "text/plain": [
       "galsim.BoundsI(xmin=1, xmax=1430, ymin=1, ymax=1429)"
      ]
     },
     "execution_count": 94,
     "metadata": {},
     "output_type": "execute_result"
    }
   ],
   "source": [
    "galimg.bounds"
   ]
  },
  {
   "cell_type": "code",
   "execution_count": 95,
   "metadata": {},
   "outputs": [],
   "source": [
    "galimg.resize(galsim.BoundsI(xmin=1, xmax=600, ymin=1, ymax=600))"
   ]
  },
  {
   "cell_type": "code",
   "execution_count": 97,
   "metadata": {},
   "outputs": [
    {
     "data": {
      "text/plain": [
       "galsim.GSFitsWCS(_data = ['TAN', array([-14016.0, -14374.0]), array([[-4.6666666666636e-05, 0.0], [0.0, 4.66666666666368e-05]]), coord.CelestialCoord(coord.Angle(2.275392210007416, coord.radians), coord.Angle(-0.012981787824751123, coord.radians)), None, None, None])"
      ]
     },
     "execution_count": 97,
     "metadata": {},
     "output_type": "execute_result"
    }
   ],
   "source": [
    "galimg.wcs"
   ]
  },
  {
   "cell_type": "code",
   "execution_count": 100,
   "metadata": {},
   "outputs": [
    {
     "data": {
      "text/plain": [
       "WCS Keywords\n",
       "\n",
       "Number of WCS axes: 2\n",
       "CTYPE : 'RA---TAN'  'DEC--TAN'  \n",
       "CRVAL : 130.37037037037  -0.743801652892557  \n",
       "CRPIX : -14016.0  -14374.0  \n",
       "CD1_1 CD1_2  : -4.6666666666636e-05  0.0  \n",
       "CD2_1 CD2_2  : 0.0  4.66666666666368e-05  \n",
       "NAXIS : 1430  1429"
      ]
     },
     "execution_count": 100,
     "metadata": {},
     "output_type": "execute_result"
    }
   ],
   "source": [
    "simg.wcs"
   ]
  },
  {
   "cell_type": "code",
   "execution_count": 102,
   "metadata": {},
   "outputs": [
    {
     "data": {
      "image/png": "[encoded data removed]",
      "text/plain": [
       "<Figure size 576x576 with 1 Axes>"
      ]
     },
     "execution_count": 102,
     "metadata": {},
     "output_type": "execute_result"
    },
    {
     "data": {
      "image/png": "[encoded data removed]",
      "text/plain": [
       "<Figure size 576x576 with 1 Axes>"
      ]
     },
     "metadata": {},
     "output_type": "display_data"
    }
   ],
   "source": [
    "display_single(galimg.array)"
   ]
  },
  {
   "cell_type": "code",
   "execution_count": 67,
   "metadata": {},
   "outputs": [],
   "source": [
    "hdr = {}\n",
    "galimg.wcs.writeToFitsHeader(hdr, galimg.bounds)"
   ]
  },
  {
   "cell_type": "code",
   "execution_count": 68,
   "metadata": {},
   "outputs": [
    {
     "data": {
      "text/plain": [
       "{'GS_XMIN': (31, 'GalSim image minimum x coordinate'),\n",
       " 'GS_YMIN': (51, 'GalSim image minimum y coordinate'),\n",
       " 'GS_WCS': ('GSFitsWCS', 'GalSim WCS name'),\n",
       " 'CTYPE1': 'RA---TAN',\n",
       " 'CTYPE2': 'DEC--TAN',\n",
       " 'CRPIX1': -14016.0,\n",
       " 'CRPIX2': -14374.0,\n",
       " 'CD1_1': -4.6666666666636e-05,\n",
       " 'CD1_2': 0.0,\n",
       " 'CD2_1': 0.0,\n",
       " 'CD2_2': 4.66666666666368e-05,\n",
       " 'CUNIT1': 'deg',\n",
       " 'CUNIT2': 'deg',\n",
       " 'CRVAL1': 130.37037037037,\n",
       " 'CRVAL2': -0.743801652892557}"
      ]
     },
     "execution_count": 68,
     "metadata": {},
     "output_type": "execute_result"
    }
   ],
   "source": [
    "hdr"
   ]
  },
  {
   "cell_type": "code",
   "execution_count": 69,
   "metadata": {},
   "outputs": [
    {
     "data": {
      "text/plain": [
       "WCS Keywords\n",
       "\n",
       "Number of WCS axes: 2\n",
       "CTYPE : 'RA---TAN'  'DEC--TAN'  \n",
       "CRVAL : 130.37037037037  -0.743801652892557  \n",
       "CRPIX : -14016.0  -14374.0  \n",
       "CD1_1 CD1_2  : -4.6666666666636e-05  0.0  \n",
       "CD2_1 CD2_2  : 0.0  4.66666666666368e-05  \n",
       "NAXIS : 0  0"
      ]
     },
     "execution_count": 69,
     "metadata": {},
     "output_type": "execute_result"
    }
   ],
   "source": [
    "wcs.WCS(hdr)"
   ]
  },
  {
   "cell_type": "code",
   "execution_count": null,
   "metadata": {},
   "outputs": [],
   "source": []
  },
  {
   "cell_type": "code",
   "execution_count": 34,
   "metadata": {},
   "outputs": [
    {
     "data": {
      "text/plain": [
       "galsim.GSFitsWCS(_data = ['TAN', array([-14016.0, -14374.0]), array([[-4.6666666666636e-05, 0.0], [0.0, 4.66666666666368e-05]]), coord.CelestialCoord(coord.Angle(2.275392210007416, coord.radians), coord.Angle(-0.012981787824751123, coord.radians)), None, None, None])"
      ]
     },
     "execution_count": 34,
     "metadata": {},
     "output_type": "execute_result"
    }
   ],
   "source": [
    "galsim.GSFitsWCS(header=hdu[1].header)"
   ]
  },
  {
   "cell_type": "code",
   "execution_count": 36,
   "metadata": {},
   "outputs": [
    {
     "data": {
      "text/plain": [
       "galsim.BoundsI(xmin=31, xmax=1460, ymin=51, ymax=1479)"
      ]
     },
     "execution_count": 36,
     "metadata": {},
     "output_type": "execute_result"
    }
   ],
   "source": []
  },
  {
   "cell_type": "code",
   "execution_count": 38,
   "metadata": {},
   "outputs": [],
   "source": [
    "galimg.wcs.writeToFitsHeader(simg.header, galimg.bounds)"
   ]
  },
  {
   "cell_type": "code",
   "execution_count": 39,
   "metadata": {},
   "outputs": [
    {
     "data": {
      "text/plain": [
       "XTENSION= 'IMAGE   '           / Image extension                                \n",
       "BITPIX  =                  -32 / array data type                                \n",
       "NAXIS   =                    2 / number of array dimensions                     \n",
       "NAXIS1  =                 1430                                                  \n",
       "NAXIS2  =                 1429                                                  \n",
       "PCOUNT  =                    0 / number of parameters                           \n",
       "GCOUNT  =                    1 / number of groups                               \n",
       "WCSAXES =                    2 / Number of WCS axes                             \n",
       "CRPIX1  =             -14016.0 / Reference pixel on axis 1                      \n",
       "CRPIX2  =             -14374.0 / Reference pixel on axis 2                      \n",
       "CRVAL1  =      130.37037037037 / Value at ref. pixel on axis 1                  \n",
       "CRVAL2  =   -0.743801652892557 / Value at ref. pixel on axis 2                  \n",
       "CTYPE1  = 'RA---TAN'           / Type of co-ordinate on axis 1                  \n",
       "CTYPE2  = 'DEC--TAN'           / Type of co-ordinate on axis 2                  \n",
       "CD1_1   = -4.6666666666636E-05 / Transformation matrix element                  \n",
       "CD2_2   = 4.66666666666368E-05 / Transformation matrix element                  \n",
       "MJD-OBS =     51544.4992571308 / Modified Julian Date of observation            \n",
       "DATE-OBS= '2000-01-01T11:58:55.816' / Date of observation                       \n",
       "RADESYS = 'ICRS    '           / Reference frame for RA/DEC values              \n",
       "LTV1    =             -32016.0                                                  \n",
       "LTV2    =             -32374.0                                                  \n",
       "INHERIT =                    T                                                  \n",
       "EXTTYPE = 'IMAGE   '                                                            \n",
       "CTYPE1A = 'LINEAR  '           / Type of projection                             \n",
       "CTYPE2A = 'LINEAR  '           / Type of projection                             \n",
       "CRPIX1A =                  1.0 / Column Pixel Coordinate of Reference           \n",
       "CRPIX2A =                  1.0 / Row Pixel Coordinate of Reference              \n",
       "CRVAL1A =              32016.0 / Column pixel of Reference Pixel                \n",
       "CRVAL2A =              32374.0 / Row pixel of Reference Pixel                   \n",
       "CUNIT1A = 'PIXEL   '           / Column unit                                    \n",
       "CUNIT2A = 'PIXEL   '           / Row unit                                       \n",
       "CD1_2   =                  0.0                                                  \n",
       "CD2_1   =                  0.0                                                  \n",
       "GS_XMIN =                   31 / GalSim image minimum x coordinate              \n",
       "GS_YMIN =                   51 / GalSim image minimum y coordinate              \n",
       "GS_WCS  = 'GSFitsWCS'          / GalSim WCS name                                \n",
       "CUNIT1  = 'deg     '                                                            \n",
       "CUNIT2  = 'deg     '                                                            "
      ]
     },
     "execution_count": 39,
     "metadata": {},
     "output_type": "execute_result"
    }
   ],
   "source": [
    "simg.header"
   ]
  },
  {
   "cell_type": "code",
   "execution_count": null,
   "metadata": {},
   "outputs": [],
   "source": []
  }
 ],
 "metadata": {
  "kernelspec": {
   "display_name": "Python 3",
   "language": "python",
   "name": "python3"
  },
  "language_info": {
   "codemirror_mode": {
    "name": "ipython",
    "version": 3
   },
   "file_extension": ".py",
   "mimetype": "text/x-python",
   "name": "python",
   "nbconvert_exporter": "python",
   "pygments_lexer": "ipython3",
   "version": "3.6.8"
  }
 },
 "nbformat": 4,
 "nbformat_minor": 2
}
